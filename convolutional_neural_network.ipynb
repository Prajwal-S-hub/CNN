{
  "cells": [
    {
      "cell_type": "markdown",
      "metadata": {
        "colab_type": "text",
        "id": "3DR-eO17geWu"
      },
      "source": [
        "# Convolutional Neural Network"
      ]
    },
    {
      "cell_type": "markdown",
      "metadata": {
        "colab_type": "text",
        "id": "EMefrVPCg-60"
      },
      "source": [
        "### Importing the libraries"
      ]
    },
    {
      "cell_type": "code",
      "execution_count": 20,
      "metadata": {
        "colab": {},
        "colab_type": "code",
        "id": "sCV30xyVhFbE"
      },
      "outputs": [],
      "source": [
        "import tensorflow as tf\n",
        "from keras.preprocessing.image import ImageDataGenerator"
      ]
    },
    {
      "cell_type": "code",
      "execution_count": 21,
      "metadata": {
        "colab": {},
        "colab_type": "code",
        "id": "FIleuCAjoFD8"
      },
      "outputs": [
        {
          "data": {
            "text/plain": [
              "'2.6.0'"
            ]
          },
          "execution_count": 21,
          "metadata": {},
          "output_type": "execute_result"
        }
      ],
      "source": [
        "tf.__version__"
      ]
    },
    {
      "cell_type": "markdown",
      "metadata": {
        "colab_type": "text",
        "id": "oxQxCBWyoGPE"
      },
      "source": [
        "## Part 1 - Data Preprocessing"
      ]
    },
    {
      "cell_type": "markdown",
      "metadata": {
        "colab_type": "text",
        "id": "MvE-heJNo3GG"
      },
      "source": [
        "### Preprocessing the Training set"
      ]
    },
    {
      "cell_type": "code",
      "execution_count": 22,
      "metadata": {},
      "outputs": [],
      "source": [
        "train_datagen = ImageDataGenerator(\n",
        "        rescale=1./255,\n",
        "        shear_range=0.2,\n",
        "        zoom_range=0.2,\n",
        "        horizontal_flip=True)"
      ]
    },
    {
      "cell_type": "code",
      "execution_count": 23,
      "metadata": {},
      "outputs": [
        {
          "name": "stdout",
          "output_type": "stream",
          "text": [
            "Found 672 images belonging to 2 classes.\n"
          ]
        }
      ],
      "source": [
        "training_set =   train_datagen.flow_from_directory(\n",
        "        'Training_set',\n",
        "        target_size=(64, 64),\n",
        "        batch_size=32,\n",
        "        class_mode='binary')"
      ]
    },
    {
      "cell_type": "markdown",
      "metadata": {
        "colab_type": "text",
        "id": "mrCMmGw9pHys"
      },
      "source": [
        "### Preprocessing the Test set"
      ]
    },
    {
      "cell_type": "code",
      "execution_count": 24,
      "metadata": {},
      "outputs": [],
      "source": [
        "test_datagen = ImageDataGenerator(rescale=1./255)"
      ]
    },
    {
      "cell_type": "code",
      "execution_count": 25,
      "metadata": {},
      "outputs": [
        {
          "name": "stdout",
          "output_type": "stream",
          "text": [
            "Found 74 images belonging to 2 classes.\n"
          ]
        }
      ],
      "source": [
        "test_set = test_datagen.flow_from_directory(\n",
        "        'Test_set',\n",
        "        target_size=(64, 64),\n",
        "        batch_size=32,\n",
        "        class_mode='binary')"
      ]
    },
    {
      "cell_type": "markdown",
      "metadata": {
        "colab_type": "text",
        "id": "af8O4l90gk7B"
      },
      "source": [
        "## Part 2 - Building the CNN"
      ]
    },
    {
      "cell_type": "markdown",
      "metadata": {
        "colab_type": "text",
        "id": "ces1gXY2lmoX"
      },
      "source": [
        "### Initialising the CNN"
      ]
    },
    {
      "cell_type": "code",
      "execution_count": 26,
      "metadata": {},
      "outputs": [],
      "source": [
        "cnn = tf.keras.models.Sequential()"
      ]
    },
    {
      "cell_type": "markdown",
      "metadata": {
        "colab_type": "text",
        "id": "u5YJj_XMl5LF"
      },
      "source": [
        "### Step 1 - Convolution"
      ]
    },
    {
      "cell_type": "code",
      "execution_count": 27,
      "metadata": {},
      "outputs": [],
      "source": [
        "cnn.add(tf.keras.layers.Conv2D(filters=32, kernel_size=3, activation='relu', input_shape=[64, 64, 3]))\n",
        "# kernel_size is the order of filter matrix, input shape is the resized img pixxels and last one to \n",
        "# check if img is colored (3 RGB) or B&W (1)"
      ]
    },
    {
      "cell_type": "markdown",
      "metadata": {
        "colab_type": "text",
        "id": "tf87FpvxmNOJ"
      },
      "source": [
        "### Step 2 - Pooling"
      ]
    },
    {
      "cell_type": "code",
      "execution_count": 28,
      "metadata": {},
      "outputs": [],
      "source": [
        "cnn.add(tf.keras.layers.MaxPool2D(pool_size=2, strides=2))"
      ]
    },
    {
      "cell_type": "markdown",
      "metadata": {
        "colab_type": "text",
        "id": "xaTOgD8rm4mU"
      },
      "source": [
        "### Adding a second convolutional layer"
      ]
    },
    {
      "cell_type": "code",
      "execution_count": 29,
      "metadata": {},
      "outputs": [],
      "source": [
        "cnn.add(tf.keras.layers.Conv2D(filters=32, kernel_size=3, activation='relu', input_shape=[64, 64, 3]))\n",
        "# kernel_size is the order of filter matrix, input shape is the resized img pixxels and last one to \n",
        "# check if img is colored (3 RGB) or B&W (1)"
      ]
    },
    {
      "cell_type": "code",
      "execution_count": 30,
      "metadata": {},
      "outputs": [],
      "source": [
        "cnn.add(tf.keras.layers.MaxPool2D(pool_size=2, strides=2))"
      ]
    },
    {
      "cell_type": "markdown",
      "metadata": {
        "colab_type": "text",
        "id": "tmiEuvTunKfk"
      },
      "source": [
        "### Step 3 - Flattening"
      ]
    },
    {
      "cell_type": "code",
      "execution_count": 31,
      "metadata": {},
      "outputs": [],
      "source": [
        "cnn.add(tf.keras.layers.Flatten())"
      ]
    },
    {
      "cell_type": "markdown",
      "metadata": {
        "colab_type": "text",
        "id": "dAoSECOm203v"
      },
      "source": [
        "### Step 4 - Full Connection"
      ]
    },
    {
      "cell_type": "code",
      "execution_count": 32,
      "metadata": {},
      "outputs": [],
      "source": [
        "cnn.add(tf.keras.layers.Dense(units=128, activation='relu'))  # relu = rectifier function"
      ]
    },
    {
      "cell_type": "markdown",
      "metadata": {
        "colab_type": "text",
        "id": "yTldFvbX28Na"
      },
      "source": [
        "### Step 5 - Output Layer"
      ]
    },
    {
      "cell_type": "code",
      "execution_count": 33,
      "metadata": {},
      "outputs": [],
      "source": [
        "cnn.add(tf.keras.layers.Dense(units=1, activation='sigmoid'))"
      ]
    },
    {
      "cell_type": "markdown",
      "metadata": {
        "colab_type": "text",
        "id": "D6XkI90snSDl"
      },
      "source": [
        "## Part 3 - Training the CNN"
      ]
    },
    {
      "cell_type": "markdown",
      "metadata": {
        "colab_type": "text",
        "id": "vfrFQACEnc6i"
      },
      "source": [
        "### Compiling the CNN"
      ]
    },
    {
      "cell_type": "code",
      "execution_count": 34,
      "metadata": {},
      "outputs": [],
      "source": [
        "cnn.compile(optimizer='adam', loss='binary_crossentropy', metrics=['accuracy'])"
      ]
    },
    {
      "cell_type": "markdown",
      "metadata": {
        "colab_type": "text",
        "id": "ehS-v3MIpX2h"
      },
      "source": [
        "### Training the CNN on the Training set and evaluating it on the Test set"
      ]
    },
    {
      "cell_type": "code",
      "execution_count": 36,
      "metadata": {},
      "outputs": [
        {
          "name": "stdout",
          "output_type": "stream",
          "text": [
            "Epoch 1/25\n",
            "21/21 [==============================] - 9s 405ms/step - loss: 0.4689 - accuracy: 0.7619 - val_loss: 0.8494 - val_accuracy: 0.7027\n",
            "Epoch 2/25\n",
            "21/21 [==============================] - 5s 240ms/step - loss: 0.4236 - accuracy: 0.7991 - val_loss: 1.1334 - val_accuracy: 0.7297\n",
            "Epoch 3/25\n",
            "21/21 [==============================] - 5s 258ms/step - loss: 0.4334 - accuracy: 0.7961 - val_loss: 1.3705 - val_accuracy: 0.6351\n",
            "Epoch 4/25\n",
            "21/21 [==============================] - 6s 288ms/step - loss: 0.4412 - accuracy: 0.7842 - val_loss: 1.0685 - val_accuracy: 0.6757\n",
            "Epoch 5/25\n",
            "21/21 [==============================] - 4s 208ms/step - loss: 0.4321 - accuracy: 0.8080 - val_loss: 1.2099 - val_accuracy: 0.7162\n",
            "Epoch 6/25\n",
            "21/21 [==============================] - 5s 224ms/step - loss: 0.4130 - accuracy: 0.8095 - val_loss: 0.8856 - val_accuracy: 0.6486\n",
            "Epoch 7/25\n",
            "21/21 [==============================] - 4s 191ms/step - loss: 0.4158 - accuracy: 0.7961 - val_loss: 1.2486 - val_accuracy: 0.6892\n",
            "Epoch 8/25\n",
            "21/21 [==============================] - 5s 256ms/step - loss: 0.4107 - accuracy: 0.8006 - val_loss: 1.1895 - val_accuracy: 0.6892\n",
            "Epoch 9/25\n",
            "21/21 [==============================] - 5s 215ms/step - loss: 0.3864 - accuracy: 0.8095 - val_loss: 1.2726 - val_accuracy: 0.6757\n",
            "Epoch 10/25\n",
            "21/21 [==============================] - 4s 207ms/step - loss: 0.4106 - accuracy: 0.7902 - val_loss: 1.1188 - val_accuracy: 0.6081\n",
            "Epoch 11/25\n",
            "21/21 [==============================] - 5s 240ms/step - loss: 0.3644 - accuracy: 0.8378 - val_loss: 1.3872 - val_accuracy: 0.6622\n",
            "Epoch 12/25\n",
            "21/21 [==============================] - 5s 243ms/step - loss: 0.3516 - accuracy: 0.8333 - val_loss: 1.4270 - val_accuracy: 0.6757\n",
            "Epoch 13/25\n",
            "21/21 [==============================] - 5s 217ms/step - loss: 0.3619 - accuracy: 0.8274 - val_loss: 1.3720 - val_accuracy: 0.6622\n",
            "Epoch 14/25\n",
            "21/21 [==============================] - 4s 203ms/step - loss: 0.3332 - accuracy: 0.8571 - val_loss: 1.6536 - val_accuracy: 0.6757\n",
            "Epoch 15/25\n",
            "21/21 [==============================] - 4s 205ms/step - loss: 0.3364 - accuracy: 0.8557 - val_loss: 1.0390 - val_accuracy: 0.7432\n",
            "Epoch 16/25\n",
            "21/21 [==============================] - 4s 205ms/step - loss: 0.3366 - accuracy: 0.8467 - val_loss: 1.4137 - val_accuracy: 0.7027\n",
            "Epoch 17/25\n",
            "21/21 [==============================] - 4s 204ms/step - loss: 0.3139 - accuracy: 0.8571 - val_loss: 1.9140 - val_accuracy: 0.7162\n",
            "Epoch 18/25\n",
            "21/21 [==============================] - 6s 271ms/step - loss: 0.3418 - accuracy: 0.8542 - val_loss: 1.3119 - val_accuracy: 0.6892\n",
            "Epoch 19/25\n",
            "21/21 [==============================] - 5s 225ms/step - loss: 0.3091 - accuracy: 0.8616 - val_loss: 1.3755 - val_accuracy: 0.7162\n",
            "Epoch 20/25\n",
            "21/21 [==============================] - 4s 207ms/step - loss: 0.3557 - accuracy: 0.8259 - val_loss: 1.3799 - val_accuracy: 0.6892\n",
            "Epoch 21/25\n",
            "21/21 [==============================] - 4s 207ms/step - loss: 0.3430 - accuracy: 0.8348 - val_loss: 1.5335 - val_accuracy: 0.6892\n",
            "Epoch 22/25\n",
            "21/21 [==============================] - 4s 202ms/step - loss: 0.3205 - accuracy: 0.8735 - val_loss: 2.1079 - val_accuracy: 0.6757\n",
            "Epoch 23/25\n",
            "21/21 [==============================] - 4s 198ms/step - loss: 0.3081 - accuracy: 0.8676 - val_loss: 1.5408 - val_accuracy: 0.7027\n",
            "Epoch 24/25\n",
            "21/21 [==============================] - 4s 205ms/step - loss: 0.2724 - accuracy: 0.8839 - val_loss: 1.9153 - val_accuracy: 0.6757\n",
            "Epoch 25/25\n",
            "21/21 [==============================] - 4s 200ms/step - loss: 0.2972 - accuracy: 0.8765 - val_loss: 1.9119 - val_accuracy: 0.6892\n"
          ]
        },
        {
          "data": {
            "text/plain": [
              "<keras.callbacks.History at 0x18445b24c10>"
            ]
          },
          "execution_count": 36,
          "metadata": {},
          "output_type": "execute_result"
        }
      ],
      "source": [
        "cnn.fit(x=training_set, validation_data=test_set, epochs=30)"
      ]
    },
    {
      "cell_type": "markdown",
      "metadata": {
        "colab_type": "text",
        "id": "U3PZasO0006Z"
      },
      "source": [
        "## Part 4 - Making a single prediction"
      ]
    },
    {
      "cell_type": "code",
      "execution_count": 79,
      "metadata": {},
      "outputs": [],
      "source": [
        "import numpy as np\n",
        "from keras.preprocessing import image\n",
        "test_image = image.load_img('single_prediction/noncovid1.png', target_size=(64, 64))"
      ]
    },
    {
      "cell_type": "code",
      "execution_count": 80,
      "metadata": {},
      "outputs": [],
      "source": [
        "test_image = image.img_to_array(test_image)"
      ]
    },
    {
      "cell_type": "markdown",
      "metadata": {},
      "source": [
        "Expanding the test image dimension"
      ]
    },
    {
      "cell_type": "code",
      "execution_count": 81,
      "metadata": {},
      "outputs": [],
      "source": [
        "test_image = np.expand_dims(test_image, axis=0)"
      ]
    },
    {
      "cell_type": "markdown",
      "metadata": {},
      "source": [
        "Predict result"
      ]
    },
    {
      "cell_type": "code",
      "execution_count": 82,
      "metadata": {},
      "outputs": [],
      "source": [
        "result = cnn.predict(test_image)"
      ]
    },
    {
      "cell_type": "markdown",
      "metadata": {},
      "source": [
        "Encoding the result ( finding which one belongs to which class)"
      ]
    },
    {
      "cell_type": "code",
      "execution_count": 83,
      "metadata": {},
      "outputs": [
        {
          "name": "stdout",
          "output_type": "stream",
          "text": [
            "{'CT_COVID': 0, 'CT_NonCOVID': 1}\n"
          ]
        }
      ],
      "source": [
        "print(training_set.class_indices)"
      ]
    },
    {
      "cell_type": "markdown",
      "metadata": {},
      "source": [
        "Predicting results"
      ]
    },
    {
      "cell_type": "code",
      "execution_count": 84,
      "metadata": {},
      "outputs": [],
      "source": [
        "if result[0][0] == 1:\n",
        "    prediction = 'Non Covid'\n",
        "else:\n",
        "    prediction = 'Covid'"
      ]
    },
    {
      "cell_type": "code",
      "execution_count": 85,
      "metadata": {},
      "outputs": [
        {
          "name": "stdout",
          "output_type": "stream",
          "text": [
            "Non Covid\n"
          ]
        }
      ],
      "source": [
        "print(prediction)"
      ]
    }
  ],
  "metadata": {
    "colab": {
      "collapsed_sections": [],
      "name": "convolutional_neural_network.ipynb",
      "provenance": [],
      "toc_visible": true
    },
    "interpreter": {
      "hash": "f2cbdd652fe121b40c18f61a7621a9c6a5d33028687aa32b7dae492c72926c29"
    },
    "kernelspec": {
      "display_name": "Python 3.9.2 64-bit ('MLenv': venv)",
      "name": "python3"
    },
    "language_info": {
      "codemirror_mode": {
        "name": "ipython",
        "version": 3
      },
      "file_extension": ".py",
      "mimetype": "text/x-python",
      "name": "python",
      "nbconvert_exporter": "python",
      "pygments_lexer": "ipython3",
      "version": "3.9.2"
    }
  },
  "nbformat": 4,
  "nbformat_minor": 2
}
